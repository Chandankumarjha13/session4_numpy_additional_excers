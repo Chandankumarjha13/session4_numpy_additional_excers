{
 "cells": [
  {
   "cell_type": "markdown",
   "metadata": {},
   "source": [
    "1) Write a Python program which accepts a list named : randomList = ['a', 0,\n",
    "2]. Use exception handling using try-catch which gives the output as:\n",
    "Output\n",
    "1) If the List element is a alphabet or string, the output will be\n",
    "The entry is a\n",
    "Oops! <class 'ValueError'> occured.\n",
    "Next entry.\n",
    "2) If the List element is “0”,the output will be\n",
    "The entry is 0\n",
    "Oops! <class 'ZeroDivisionError'> occured.\n",
    "Next entry.\n",
    "3) If the List element is and integer except 0,then output will be\n",
    "The entry is 2\n",
    "The reciprocal of 2 is 0.5 // reciprocal of an integer"
   ]
  },
  {
   "cell_type": "code",
   "execution_count": 3,
   "metadata": {},
   "outputs": [
    {
     "name": "stdout",
     "output_type": "stream",
     "text": [
      "**************\n",
      "The entry is a\n",
      "Oops! <class 'ValueError'> occured.\n",
      "Next entry.\n",
      "\n",
      "The entry is 0\n",
      "Oops! <class 'ZeroDivisionError'> occured.\n",
      "Next entry.\n",
      "\n",
      "The entry is 2\n",
      "The reciprocal of 2 is 0.5\n"
     ]
    }
   ],
   "source": [
    "import sys\n",
    "randomList = ['a', 0, 2]\n",
    "def reciprocal(randomList):\n",
    "    for entry in randomList:\n",
    "        try:\n",
    "            print(\"The entry is\", entry)\n",
    "            r = 1/int(entry)\n",
    "            break\n",
    "        except:\n",
    "            print(\"Oops!\",sys.exc_info()[0],\"occured.\")\n",
    "            print(\"Next entry.\")\n",
    "            print()\n",
    "    print(\"The reciprocal of\",entry,\"is\",r)\n",
    "reciprocal(randomList)"
   ]
  },
  {
   "cell_type": "markdown",
   "metadata": {},
   "source": [
    "2) Array out of Bound Exception\n",
    "Write a Python program to give exception “Array Out of Bound” if the\n",
    "user wants to access the elements beyond the list size (use try and exce\n",
    "pt)"
   ]
  },
  {
   "cell_type": "code",
   "execution_count": 7,
   "metadata": {},
   "outputs": [
    {
     "name": "stdout",
     "output_type": "stream",
     "text": [
      "Array Out of Bound Ecception\n"
     ]
    }
   ],
   "source": [
    "def arrayOutOfBound():\n",
    "    try:\n",
    "        inputlist = [1,2,3,4,6,7]\n",
    "        data = inputlist[15]\n",
    "    except (IndexError, ValueError):\n",
    "        print('Array Out of Bound Ecception')\n",
    "        data = 'null'\n",
    "arrayOutOfBound()"
   ]
  },
  {
   "cell_type": "markdown",
   "metadata": {},
   "source": [
    "3) Write a python module script that contains fib2() method to calculate the\n",
    "fibonacci series till 1000 and save it as fibo.py.\n",
    "Note : The module created as fibo.py has to be placed in lib\n",
    "folder\n",
    "For linux/ubuntu path = /home/anaconda/lib/python3\n",
    "For Windows path = C:\\Users\\Ajit\\Anaconda3\\Lib"
   ]
  },
  {
   "cell_type": "code",
   "execution_count": 10,
   "metadata": {},
   "outputs": [],
   "source": [
    "%%writefile fibo.py\n",
    "# Fibonacci numbers module\n",
    "def fib(n):    # write Fibonacci series up to n\n",
    "    a, b = 0, 1\n",
    "    while b < n:\n",
    "        print(b, end=' ')\n",
    "        a, b = b, a+b\n",
    "    print()\n",
    "def fib2(n):   # return Fibonacci series up to n\n",
    "    result = []\n",
    "    a, b = 0, 1\n",
    "    while b < n:\n",
    "        result.append(b)\n",
    "        a, b = b, a+b\n",
    "    return result"
   ]
  },
  {
   "cell_type": "code",
   "execution_count": 4,
   "metadata": {},
   "outputs": [
    {
     "name": "stdout",
     "output_type": "stream",
     "text": [
      "[1, 1, 2, 3, 5, 8, 13, 21, 34, 55, 89]\n",
      "fibo\n"
     ]
    }
   ],
   "source": [
    "import fibo\n",
    "print(fibo.fib2(100))\n",
    "print(fibo.__name__)"
   ]
  },
  {
   "cell_type": "markdown",
   "metadata": {},
   "source": [
    "4) Write a python module script that contains ispalindrome() method to\n",
    "calculate the input string as palindrome string or not and save it as\n",
    "palindrome.py"
   ]
  },
  {
   "cell_type": "code",
   "execution_count": 9,
   "metadata": {},
   "outputs": [
    {
     "name": "stdout",
     "output_type": "stream",
     "text": [
      "String is palindrom number\n"
     ]
    }
   ],
   "source": [
    "%%writefile Palindrome.py\n",
    "def reverse(s): \n",
    "    return s[::-1] \n",
    "def isPalindrome(string): \n",
    "    # Calling reverse function \n",
    "    reverseString = reverse(string) \n",
    "    # Checking if both string are equal or not \n",
    "    if (string == reverseString): \n",
    "        return True\n",
    "    return False\n",
    "string = \"ATOYOTA\"\n",
    "ans = isPalindrome(string) \n",
    "  \n",
    "if ans: \n",
    "    print(\"String is palindrom number\") \n",
    "else: \n",
    "    print(\"String is not a palindrom number\")"
   ]
  },
  {
   "cell_type": "code",
   "execution_count": null,
   "metadata": {},
   "outputs": [],
   "source": []
  }
 ],
 "metadata": {
  "kernelspec": {
   "display_name": "Python 3",
   "language": "python",
   "name": "python3"
  },
  "language_info": {
   "codemirror_mode": {
    "name": "ipython",
    "version": 3
   },
   "file_extension": ".py",
   "mimetype": "text/x-python",
   "name": "python",
   "nbconvert_exporter": "python",
   "pygments_lexer": "ipython3",
   "version": "3.6.4"
  }
 },
 "nbformat": 4,
 "nbformat_minor": 2
}
